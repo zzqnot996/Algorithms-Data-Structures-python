{
  "nbformat": 4,
  "nbformat_minor": 0,
  "metadata": {
    "colab": {
      "provenance": [],
      "authorship_tag": "ABX9TyPCkUC6QIzxg1dwGW/avh8x",
      "include_colab_link": true
    },
    "kernelspec": {
      "name": "python3",
      "display_name": "Python 3"
    },
    "language_info": {
      "name": "python"
    }
  },
  "cells": [
    {
      "cell_type": "markdown",
      "metadata": {
        "id": "view-in-github",
        "colab_type": "text"
      },
      "source": [
        "<a href=\"https://colab.research.google.com/github/zzqnot996/coding/blob/main/%E9%98%9F%E5%88%97.ipynb\" target=\"_parent\"><img src=\"https://colab.research.google.com/assets/colab-badge.svg\" alt=\"Open In Colab\"/></a>"
      ]
    },
    {
      "cell_type": "markdown",
      "source": [],
      "metadata": {
        "id": "Z4kuMMF2ZHu0"
      }
    },
    {
      "cell_type": "code",
      "execution_count": null,
      "metadata": {
        "id": "mZqz-fFTZDUl"
      },
      "outputs": [],
      "source": [
        "# - Queue() 创建一个空的队列\n",
        "# - enqueue(item) 往队列中添加一个item元桑\n",
        "# - dequeue() 从队列头部删除一个元素\n",
        "# - is_empty() 判断一个队列是否为空\n",
        "# - size() 返回队列的大小"
      ]
    },
    {
      "cell_type": "code",
      "source": [
        "class Queue:\n",
        "\n",
        "  def __init__(self):\n",
        "    self.items = []\n",
        "\n",
        "  def enqueue(self,item):\n",
        "    # 在头部添加\n",
        "    self.items.insert(0,item)\n",
        "\n",
        "  def dequeue(self):\n",
        "    # 先进先出\n",
        "    return self.items.pop()\n",
        "\n",
        "  def is_empty(self):\n",
        "    # 先进先出\n",
        "    return self.items == []\n",
        "\n",
        "  def size(self):\n",
        "    # 先进先出\n",
        "    return len(self.items)\n",
        "\n",
        "if __name__==\"__main__\" :\n",
        "  # - Queue() 创建一个空的队列\n",
        "  queue = Queue()\n",
        "\n",
        "  # - enqueue(item) 往队列中添加一item元素 入队\n",
        "  queue.enqueue('数据1')\n",
        "  queue.enqueue('数据2')\n",
        "  queue.enqueue('数据3')\n",
        "  queue.enqueue('数据4')\n",
        "  print(queue.items)\n",
        "\n",
        "  # - dequeue() 先进先出\n",
        "  queue.dequeue()\n",
        "  queue.dequeue()\n",
        "  print(queue.items)\n",
        "\n",
        "  # - is_empty() 判断一个队列是否为空\n",
        "  print(queue.is_empty())\n",
        "\n",
        "  # - size() 返回队列的大小\n",
        "  print(queue.size())"
      ],
      "metadata": {
        "colab": {
          "base_uri": "https://localhost:8080/"
        },
        "id": "tb9xUj92ZJZN",
        "outputId": "489903a7-3262-47a7-d730-6197ca2a1e06"
      },
      "execution_count": 9,
      "outputs": [
        {
          "output_type": "stream",
          "name": "stdout",
          "text": [
            "['数据4', '数据3', '数据2', '数据1']\n",
            "['数据4', '数据3']\n",
            "False\n",
            "2\n"
          ]
        }
      ]
    },
    {
      "cell_type": "code",
      "source": [
        "class Queue:\n",
        "\n",
        "  def __init__(self):\n",
        "    self.items = []\n",
        "\n",
        "  def enqueue_head(self,item):\n",
        "    # 从头部入队\n",
        "    self.items.insert(0,item)\n",
        "\n",
        "  def enqueue_tail(self,item):\n",
        "    # 从尾部入队\n",
        "    self.items.append(item)\n",
        "\n",
        "  def dequeue_head(self):\n",
        "    # 头部出队\n",
        "    return self.items.pop(0)\n",
        "\n",
        "  def dequeue_tail(self):\n",
        "    # 尾部出队\n",
        "    return self.items.pop()\n",
        "\n",
        "  def is_empty(self):\n",
        "    return self.items == []\n",
        "\n",
        "  def size(self):\n",
        "    return len(self.items)\n",
        "\n",
        "if __name__==\"__main__\" :\n",
        "  # - Queue() 创建一个空的队列\n",
        "  queue = Queue()\n",
        "\n",
        "  # - enqueue(item) 往队列中添加一item元素 入队\n",
        "  queue.enqueue_head('数据1')\n",
        "  queue.enqueue_head('数据2')\n",
        "  queue.enqueue_head('数据3')\n",
        "  queue.enqueue_tail('数据0')\n",
        "\n",
        "  print(queue.items)\n",
        "\n",
        "  # - dequeue() 先进先出\n",
        "  queue.dequeue_tail()\n",
        "  queue.dequeue_tail()\n",
        "  queue.dequeue_head()\n",
        "  print(queue.items)\n",
        "\n",
        "  # - is_empty() 判断一个队列是否为空\n",
        "  print(queue.is_empty())\n",
        "\n",
        "  # - size() 返回队列的大小\n",
        "  print(queue.size())\n",
        "\n",
        "\n"
      ],
      "metadata": {
        "colab": {
          "base_uri": "https://localhost:8080/"
        },
        "id": "UGvmTPA6hFKM",
        "outputId": "7d7803b7-b601-45a0-806a-acc7fe77ef5f"
      },
      "execution_count": 11,
      "outputs": [
        {
          "output_type": "stream",
          "name": "stdout",
          "text": [
            "['数据3', '数据2', '数据1', '数据0']\n",
            "['数据2']\n",
            "False\n",
            "1\n"
          ]
        }
      ]
    }
  ]
}
