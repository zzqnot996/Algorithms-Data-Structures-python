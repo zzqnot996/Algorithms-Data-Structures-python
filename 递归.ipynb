{
  "nbformat": 4,
  "nbformat_minor": 0,
  "metadata": {
    "colab": {
      "provenance": [],
      "authorship_tag": "ABX9TyNoNjT5nHsNR5yrNpozSzcP",
      "include_colab_link": true
    },
    "kernelspec": {
      "name": "python3",
      "display_name": "Python 3"
    },
    "language_info": {
      "name": "python"
    }
  },
  "cells": [
    {
      "cell_type": "markdown",
      "metadata": {
        "id": "view-in-github",
        "colab_type": "text"
      },
      "source": [
        "<a href=\"https://colab.research.google.com/github/zzqnot996/Data-structures-and-algorithms-python/blob/main/%E9%80%92%E5%BD%92.ipynb\" target=\"_parent\"><img src=\"https://colab.research.google.com/assets/colab-badge.svg\" alt=\"Open In Colab\"/></a>"
      ]
    },
    {
      "cell_type": "code",
      "execution_count": 14,
      "metadata": {
        "colab": {
          "base_uri": "https://localhost:8080/",
          "height": 35
        },
        "id": "9Ah9kJWbciWq",
        "outputId": "a0972e3e-2f30-4d2d-dab8-70f027a03317"
      },
      "outputs": [
        {
          "output_type": "execute_result",
          "data": {
            "text/plain": [
              "'789456'"
            ],
            "application/vnd.google.colaboratory.intrinsic+json": {
              "type": "string"
            }
          },
          "metadata": {},
          "execution_count": 14
        }
      ],
      "source": [
        "\n",
        "# 将整数转换成任意进制的字符串\n",
        "\n",
        "import math\n",
        "\n",
        "def recursion_num(num,base):\n",
        "\n",
        "  if num == 0:\n",
        "    return \"0\"\n",
        "\n",
        "  elif num  < 10:\n",
        "\n",
        "    return str(num)\n",
        "  else:\n",
        "    num_str = num % 10\n",
        "    return recursion_num(num//10,base) + str(num_str)\n",
        "\n",
        "\n",
        "\n",
        "recursion_num(789456,10)\n",
        "\n"
      ]
    },
    {
      "cell_type": "code",
      "source": [],
      "metadata": {
        "id": "3fIfcx9P-Ylj"
      },
      "execution_count": null,
      "outputs": []
    }
  ]
}