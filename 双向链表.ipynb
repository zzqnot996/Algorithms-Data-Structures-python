{
  "nbformat": 4,
  "nbformat_minor": 0,
  "metadata": {
    "colab": {
      "provenance": []
    },
    "kernelspec": {
      "name": "python3",
      "display_name": "Python 3"
    },
    "language_info": {
      "name": "python"
    }
  },
  "cells": [
    {
      "cell_type": "code",
      "execution_count": 4,
      "metadata": {
        "colab": {
          "base_uri": "https://localhost:8080/"
        },
        "id": "ApzkUFpV3gqW",
        "outputId": "c9d87e06-afb6-4fca-91f1-1bbdcd793389"
      },
      "outputs": [
        {
          "output_type": "stream",
          "name": "stdout",
          "text": [
            "True\n",
            "0\n",
            "元素1 \n",
            "元素0 元素1 \n",
            "元素0 元素1 元素2 \n",
            "True\n"
          ]
        }
      ],
      "source": [
        "class Node(object):\n",
        "      # 双向链表的结点”\n",
        "  def __init__(self,item):\n",
        "    # item存放数据元素\n",
        "    self.item = item\n",
        "    # next是下一个节点的标识\n",
        "    self.next = None\n",
        "    self.prev = None\n",
        "\n",
        "\n",
        "class DLinkList(object):\n",
        "    def __init__(self,node=None):\n",
        "        self.__head = node  # 当前列表指向空\n",
        "\n",
        "    # - is_empty() 链表是否为空\n",
        "    def is_empty(self):\n",
        "        return self.__head is None\n",
        "\n",
        "\n",
        "    # - Length() 链表长度def Tength(self):\n",
        "    def length(self):\n",
        "        cur = self.__head\n",
        "        count = 0\n",
        "        while cur is not None:\n",
        "            count += 1\n",
        "            cur = cur.next\n",
        "        return count\n",
        "\n",
        "    def search(self,item):\n",
        "        cur = self.__head\n",
        "        while cur is not None:\n",
        "            if cur.item == item:\n",
        "                return True\n",
        "            cur = cur.next\n",
        "\n",
        "        return False\n",
        "\n",
        "    # travel() 遍历链表\n",
        "    def travel(self):\n",
        "\n",
        "        cur = self.__head\n",
        "        while cur is not None:\n",
        "            print(cur.item,end = \" \")\n",
        "            cur = cur.next\n",
        "        print()\n",
        "\n",
        "\n",
        "    # add(item) 链表头部添加\n",
        "    def add(self,item):\n",
        "        node = Node(item)\n",
        "        # 改变指向 原本head指向a1 现在是node.next 指向a1\n",
        "        node.next = self.__head\n",
        "        self.__head = node\n",
        "        # 判断是否后面有值\n",
        "        if node.next:\n",
        "            node.next.prev = node\n",
        "\n",
        "    # append(item) 链表尾部添加\n",
        "    def append(self,item):\n",
        "        node = Node(item)\n",
        "        if self.is_empty():\n",
        "            self.__head = node\n",
        "        else:\n",
        "            # 需要遍历到最后一个 在最后一个添加\n",
        "            cur = self.__head\n",
        "            while cur.next is not None:\n",
        "                cur = cur.next\n",
        "            cur.next = node\n",
        "            node.prev = cur\n",
        "\n",
        "\n",
        "\n",
        "if __name__==\"__main__\":\n",
        "\n",
        "    l = DLinkList()\n",
        "    print(l.is_empty())\n",
        "    print(l.length())\n",
        "    l.add(\"元素1\")\n",
        "    l.travel()\n",
        "    l.add(\"元素0\")\n",
        "    l.travel()\n",
        "    l.append(\"元素2\")\n",
        "    l.travel()\n",
        "    print(l.search(\"元素2\"))\n"
      ]
    }
  ]
}