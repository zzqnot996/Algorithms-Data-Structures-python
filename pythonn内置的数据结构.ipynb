{
  "nbformat": 4,
  "nbformat_minor": 0,
  "metadata": {
    "colab": {
      "provenance": [],
      "authorship_tag": "ABX9TyNITb+N0ViZRq9KTym8kTos",
      "include_colab_link": true
    },
    "kernelspec": {
      "name": "python3",
      "display_name": "Python 3"
    },
    "language_info": {
      "name": "python"
    }
  },
  "cells": [
    {
      "cell_type": "markdown",
      "metadata": {
        "id": "view-in-github",
        "colab_type": "text"
      },
      "source": [
        "<a href=\"https://colab.research.google.com/github/zzqnot996/coding/blob/main/pythonn%E5%86%85%E7%BD%AE%E7%9A%84%E6%95%B0%E6%8D%AE%E7%BB%93%E6%9E%84.ipynb\" target=\"_parent\"><img src=\"https://colab.research.google.com/assets/colab-badge.svg\" alt=\"Open In Colab\"/></a>"
      ]
    },
    {
      "cell_type": "code",
      "execution_count": 5,
      "metadata": {
        "colab": {
          "base_uri": "https://localhost:8080/"
        },
        "id": "wabKMGFMkjDo",
        "outputId": "eb0bbc3f-f96f-4fa7-9bfa-76e96af89b34"
      },
      "outputs": [
        {
          "output_type": "stream",
          "name": "stdout",
          "text": [
            "target:\t 835321\n"
          ]
        }
      ],
      "source": [
        "import timeit\n",
        "import random\n",
        "arr = [i for i in range(1000000)]\n",
        "target = random.choice(arr)\n",
        "print('target:\\t',target)\n",
        "\n",
        "def traverse(array,target):\n",
        "  \"\"\"随机查找\"\"\"\n",
        "  for number in array:\n",
        "    if target == number:\n",
        "      return number\n",
        "  return False\n",
        "\n",
        "\n",
        "def binary_search_normal(array,data) :\n",
        "  \"\"\"二分查找法 - 非递归实现\"\"\"\n",
        "  start,end = 0,len(array) - 1\n",
        "  while start <= end:\n",
        "    mid_index = (start + end) // 2\n",
        "    if array[mid_index] == data:\n",
        "      return array.index(data)\n",
        "    if data > array[mid_index]:\n",
        "      start = mid_index + 1\n",
        "    else:\n",
        "      end = mid_index - 1\n",
        "  return False"
      ]
    }
  ]
}