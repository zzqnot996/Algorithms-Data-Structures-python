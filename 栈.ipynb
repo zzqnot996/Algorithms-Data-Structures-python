{
  "nbformat": 4,
  "nbformat_minor": 0,
  "metadata": {
    "colab": {
      "provenance": [],
      "authorship_tag": "ABX9TyOSR+wP39GDge7+kQ7xYdjA",
      "include_colab_link": true
    },
    "kernelspec": {
      "name": "python3",
      "display_name": "Python 3"
    },
    "language_info": {
      "name": "python"
    }
  },
  "cells": [
    {
      "cell_type": "markdown",
      "metadata": {
        "id": "view-in-github",
        "colab_type": "text"
      },
      "source": [
        "<a href=\"https://colab.research.google.com/github/zzqnot996/coding/blob/main/%E6%A0%88.ipynb\" target=\"_parent\"><img src=\"https://colab.research.google.com/assets/colab-badge.svg\" alt=\"Open In Colab\"/></a>"
      ]
    },
    {
      "cell_type": "code",
      "execution_count": 5,
      "metadata": {
        "colab": {
          "base_uri": "https://localhost:8080/"
        },
        "id": "7AHronB7lF1U",
        "outputId": "8e446461-8d66-4bdc-e268-07026ecee749"
      },
      "outputs": [
        {
          "output_type": "stream",
          "name": "stdout",
          "text": [
            "['元素3', '元素2', '元素1']\n",
            "['元素1']\n",
            "False\n",
            "1\n"
          ]
        }
      ],
      "source": [
        "class Stack:\n",
        "  def __init__(self):\n",
        "    self.items = []\n",
        "\n",
        "  def push(self,items) :\n",
        "    self.items.insert(0,items)\n",
        "\n",
        "  def pop(self):\n",
        "    return self.items.pop(0)\n",
        "\n",
        "  def is_empty(self):\n",
        "    return self.items ==[]\n",
        "\n",
        "  def size(self):\n",
        "    return len(self.items)\n",
        "\n",
        "if __name__ == \"__main__\":\n",
        "\n",
        "  # - Stack() 创建一个新的空栈\n",
        "  stack = Stack()\n",
        "\n",
        "  # - push(item) 添加一个新的元素item到栈顶\n",
        "  stack.push(\"元素1\")\n",
        "  stack.push(\"元素2\")\n",
        "  stack.push(\"元素3\")\n",
        "  print(stack.items)\n",
        "\n",
        "  # - pop() 弹出栈顶元素\n",
        "  stack.pop()\n",
        "  stack.pop()\n",
        "  print(stack.items)\n",
        "\n",
        "  # - is_empty() 判断栈是否为空\n",
        "  # stack.is_empty()\n",
        "  print(stack.is_empty())\n",
        "  # - size() 返回的元素个数\n",
        "  # stack.size()\n",
        "  print(stack.size())"
      ]
    }
  ]
}